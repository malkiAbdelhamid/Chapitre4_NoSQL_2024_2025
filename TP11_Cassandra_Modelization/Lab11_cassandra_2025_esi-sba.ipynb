{
 "cells": [
  {
   "cell_type": "markdown",
   "metadata": {},
   "source": [
    "# Exercice: Modélisation orientée requête (Cassandra)\n",
    "\n",
    "<table><tr>\n",
    "    <td><img src=\"image/esi-sba.png\" width=\"100\" height=\"100\"></td>\n",
    "    <td><img src=\"image/cassandra.png\" width=\"100\" height=\"100\"></td>\n",
    "    </tr></table>\n",
    "\n"
   ]
  },
  {
   "cell_type": "markdown",
   "metadata": {},
   "source": [
    "### Dans ce notebook, nous allons travailler sur la modélisation orientée requête sous la BDD No-SQL Cassandra, en particulier nous traitons les points suivants :\n",
    "\n",
    "* Dénormaliser une BDD relationnelle en partant du principe 1 table per query \n",
    "* Définir la partie Primary Key pour chaque requête\n",
    "* Optimiser vos modèles en choisissant la bonne Partition Key & Clustering Column\n",
    "* Valider vos modèles \n",
    "* Tester quelques requêtes particulières\n"
   ]
  },
  {
   "cell_type": "markdown",
   "metadata": {},
   "source": [
    "#### installer cassandra-driver afin de se connecter au cluster cassandra\n",
    "! pip install cassandra-driver\n",
    "#### More documentation can be found here:  https://datastax.github.io/python-driver/"
   ]
  },
  {
   "cell_type": "markdown",
   "metadata": {},
   "source": [
    "#### Import Apache Cassandra python package"
   ]
  },
  {
   "cell_type": "code",
   "execution_count": null,
   "metadata": {},
   "outputs": [],
   "source": [
    "import cassandra"
   ]
  },
  {
   "cell_type": "markdown",
   "metadata": {},
   "source": [
    "### créer une connection au cluster cassandra"
   ]
  },
  {
   "cell_type": "code",
   "execution_count": null,
   "metadata": {},
   "outputs": [],
   "source": [
    "from cassandra.cluster import Cluster\n",
    "\n",
    "try: \n",
    "    cluster = Cluster(['127.0.0.1']) # si cassandra est installé localement avec le port par défaut 9042\n",
    "    session = cluster.connect()\n",
    "except Exception as e:\n",
    "    print(e)"
   ]
  },
  {
   "cell_type": "markdown",
   "metadata": {},
   "source": [
    "### créer maintenant un keyspace nommé \"cart_esi\""
   ]
  },
  {
   "cell_type": "code",
   "execution_count": null,
   "metadata": {},
   "outputs": [],
   "source": [
    "try:\n",
    "    \n",
    "  ### add code here \n",
    "  \n",
    "\n",
    "except Exception as e:\n",
    "    print(e)"
   ]
  },
  {
   "cell_type": "markdown",
   "metadata": {},
   "source": [
    "### connecter à votre Keyspace  cart_esi \n"
   ]
  },
  {
   "cell_type": "code",
   "execution_count": null,
   "metadata": {},
   "outputs": [],
   "source": [
    "try:\n",
    "    \n",
    "    ### add code here \n",
    "    \n",
    "    \n",
    "except Exception as e:\n",
    "    print(e)"
   ]
  },
  {
   "cell_type": "markdown",
   "metadata": {},
   "source": [
    "### Supposons qu'on a une plateforme e-commerce dont le   modèle RELATIONNEL est décrit comme suit:\n",
    "\n",
    "<table><tr>\n",
    "    <td><img src=\"image/E-R_model.png\" width=\"500\" height=\"500\"></td>\n",
    "      </tr></table>"
   ]
  },
  {
   "cell_type": "markdown",
   "metadata": {},
   "source": [
    "### imaginons  que nous souhaitons analyser ces données à  travers 4 requêtes analytiques:\n",
    "* `Query1= retourner les informations d’un panier (cart_id, state) de chaque utilisateur (user_id). Afficher également l’email de l’utilisateur.`\n",
    "\n",
    "* `Query2= retourner pour chaque utilisateur toutes les informations de ses paniers ainsi que leurs contenus (les items ajoutés avec leurs quantités). Ordonner le résultat par state(asc) et date de création(asc).`\n",
    "\n",
    "*  `Query3= retourner pour chaque panier sa date de création, son total et les sous-totaux par item.`"
   ]
  },
  {
   "cell_type": "markdown",
   "metadata": {},
   "source": [
    "#### Créer les trois tables qui correspondent aux requêtes précédentes, en indiquant pour chacune:\n",
    "* Primary Key\n",
    "* Partition Key\n",
    "* Clustering Column"
   ]
  },
  {
   "cell_type": "code",
   "execution_count": null,
   "metadata": {},
   "outputs": [],
   "source": [
    "try:\n",
    "    \n",
    "    ### Create the table that corresponds to the Query1\n",
    "    query1 = \"***************** \"\n",
    "    \n",
    "    session.execute(query1)\n",
    "except Exception as e:\n",
    "        print(e)"
   ]
  },
  {
   "cell_type": "code",
   "execution_count": null,
   "metadata": {},
   "outputs": [],
   "source": [
    "try:\n",
    "    \n",
    "    ### Create the table that corresponds to the Query2\n",
    "    query2 = \"*************** \"\n",
    "    \n",
    "    session.execute(query2)\n",
    "except Exception as e:\n",
    "        print(e)"
   ]
  },
  {
   "cell_type": "code",
   "execution_count": null,
   "metadata": {},
   "outputs": [],
   "source": [
    "try:\n",
    "    \n",
    "    ### Create the table that corresponds to the Query3\n",
    "    query3= \"********************\"\n",
    "   \n",
    "    session.execute(query3)\n",
    "except Exception as e:\n",
    "        print(e)"
   ]
  },
  {
   "cell_type": "markdown",
   "metadata": {},
   "source": [
    "### Une fois vous créez les différentes tables, essayez de les peupler.\n",
    "#### * deux utilisateurs\n",
    "####  * cinq paniers, trois pour le premier User et deux pour le deuxième\n",
    "####  * entre 1 et 3 items par panier \n",
    "\n"
   ]
  },
  {
   "cell_type": "markdown",
   "metadata": {},
   "source": [
    "### Insertion des données dans Table1"
   ]
  },
  {
   "cell_type": "code",
   "execution_count": null,
   "metadata": {},
   "outputs": [],
   "source": [
    "query = \"INSERT INTO ****************** \"\n",
    "query = query + \" VALUES (%s,***************)\"\n",
    "\n",
    "try:\n",
    "    session.execute(query, (\"**********\"\"))\n",
    "    \n",
    "except Exception as e:\n",
    "        print(e)  "
   ]
  },
  {
   "cell_type": "markdown",
   "metadata": {},
   "source": [
    "### Insertion des données dans Table2"
   ]
  },
  {
   "cell_type": "code",
   "execution_count": null,
   "metadata": {},
   "outputs": [],
   "source": [
    "query = \"INSERT INTO ****************** \"\n",
    "query = query + \" VALUES (%s,***************)\"\n",
    "\n",
    "try:\n",
    "    session.execute(query, (\"**********\"\"))\n",
    "    \n",
    "except Exception as e:\n",
    "        print(e)  "
   ]
  },
  {
   "cell_type": "markdown",
   "metadata": {},
   "source": [
    "### Insertion des données dans Table3"
   ]
  },
  {
   "cell_type": "code",
   "execution_count": null,
   "metadata": {},
   "outputs": [],
   "source": [
    "query = \"INSERT INTO ****************** \"\n",
    "query = query + \" VALUES (%s,***************)\"\n",
    "\n",
    "try:\n",
    "    session.execute(query, (\"**********\"\"))\n",
    "    \n",
    "except Exception as e:\n",
    "        print(e)  "
   ]
  },
  {
   "cell_type": "markdown",
   "metadata": {},
   "source": [
    "### Valider votre modèle en exécutant les requêtes suivantes\n",
    "\n",
    "* Retourner les paniers de l'utilisateur N°1\"\n",
    "\n",
    "* Retourner le contenu des paniers \"saved\" de l'utilisateur N°1\n",
    "\n",
    "* retourner le total et les soustotaux du panier N°3"
   ]
  },
  {
   "cell_type": "code",
   "execution_count": null,
   "metadata": {
    "scrolled": true
   },
   "outputs": [],
   "source": [
    "# query1: Retourner les paniers de l'utilisateur N°1\n",
    "query = \"********************************\"\n",
    "\n",
    "try:\n",
    "    rows = session.execute(query)\n",
    "    for row in rows:\n",
    "          print (row)\n",
    "except Exception as e:\n",
    "        print(e)           "
   ]
  },
  {
   "cell_type": "code",
   "execution_count": null,
   "metadata": {
    "scrolled": true
   },
   "outputs": [],
   "source": [
    "# query2: Retourner le contenu des paniers \"saved\" de l'utilisateur N°1\n",
    "query = \"********************************\"\n",
    "\n",
    "try:\n",
    "    rows = session.execute(query)\n",
    "    for row in rows:\n",
    "          print (row)\n",
    "except Exception as e:\n",
    "        print(e)    "
   ]
  },
  {
   "cell_type": "code",
   "execution_count": null,
   "metadata": {
    "scrolled": true
   },
   "outputs": [],
   "source": [
    "# query3:  retourner le total et les soustotaux du panier N°3\n",
    "query = \"********************************\"\n",
    "\n",
    "try:\n",
    "    rows = session.execute(query)\n",
    "    for row in rows:\n",
    "          print (row)\n",
    "except Exception as e:\n",
    "        print(e)         "
   ]
  },
  {
   "cell_type": "markdown",
   "metadata": {},
   "source": [
    "### Essayons d'autres requêtes \n",
    "\n",
    "* `Retourner le contenu des paniers créés  aprés le 01-12-2024 par l'utilisateur N°1` "
   ]
  },
  {
   "cell_type": "code",
   "execution_count": null,
   "metadata": {},
   "outputs": [],
   "source": [
    "# query4\n",
    "query = \"********************************\"\n",
    "\n",
    "try:\n",
    "    rows = session.execute(query)\n",
    "    for row in rows:\n",
    "          print (row)\n",
    "except Exception as e:\n",
    "        print(e)      "
   ]
  },
  {
   "cell_type": "markdown",
   "metadata": {},
   "source": [
    "### Proposer une solution pour optimiser cette requête"
   ]
  },
  {
   "cell_type": "code",
   "execution_count": null,
   "metadata": {},
   "outputs": [],
   "source": [
    "### make your solution \n",
    "## table creation\n",
    "### Create the table that corresponds to the Query4\n",
    "query2 = \"*******************\"\n",
    "\n",
    "   \n",
    "session.execute(query2) \n",
    "\n",
    "## insert data\n",
    "query = \"INSERT INTO ************\"\n",
    "query = query + \" VALUES (%s,********************)\"\n",
    "\n",
    "try:\n",
    "    session.execute(query, (\"*********************\"))\n",
    "   \n",
    "  \n",
    "except Exception as e :\n",
    "        print(e)   "
   ]
  },
  {
   "cell_type": "code",
   "execution_count": null,
   "metadata": {},
   "outputs": [],
   "source": [
    "# query4\n",
    "query = \"*****************************************\"\n",
    "\n",
    "\n",
    "\n",
    "try:\n",
    "    rows = session.execute(query)\n",
    "    for row in rows:\n",
    "          print (row)\n",
    "except Exception as e:\n",
    "        print(e)  "
   ]
  },
  {
   "cell_type": "markdown",
   "metadata": {},
   "source": [
    "###  drop  tables. "
   ]
  },
  {
   "cell_type": "markdown",
   "metadata": {},
   "source": [
    "### close the session and cluster connection"
   ]
  },
  {
   "cell_type": "code",
   "execution_count": null,
   "metadata": {},
   "outputs": [],
   "source": [
    "session.shutdown()\n",
    "cluster.shutdown()"
   ]
  },
  {
   "cell_type": "code",
   "execution_count": null,
   "metadata": {},
   "outputs": [],
   "source": []
  }
 ],
 "metadata": {
  "kernelspec": {
   "display_name": "Python 3 (ipykernel)",
   "language": "python",
   "name": "python3"
  },
  "language_info": {
   "codemirror_mode": {
    "name": "ipython",
    "version": 3
   },
   "file_extension": ".py",
   "mimetype": "text/x-python",
   "name": "python",
   "nbconvert_exporter": "python",
   "pygments_lexer": "ipython3",
   "version": "3.7.4"
  }
 },
 "nbformat": 4,
 "nbformat_minor": 2
}
